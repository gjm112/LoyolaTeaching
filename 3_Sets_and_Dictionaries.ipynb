{
  "nbformat": 4,
  "nbformat_minor": 0,
  "metadata": {
    "colab": {
      "name": "3. Sets and Dictionaries",
      "provenance": [],
      "authorship_tag": "ABX9TyNd5IN29JxOwyAc+dPqVlcU",
      "include_colab_link": true
    },
    "kernelspec": {
      "name": "python3",
      "display_name": "Python 3"
    },
    "language_info": {
      "name": "python"
    }
  },
  "cells": [
    {
      "cell_type": "markdown",
      "metadata": {
        "id": "view-in-github",
        "colab_type": "text"
      },
      "source": [
        "<a href=\"https://colab.research.google.com/github/gjm112/LoyolaTeaching/blob/main/3_Sets_and_Dictionaries.ipynb\" target=\"_parent\"><img src=\"https://colab.research.google.com/assets/colab-badge.svg\" alt=\"Open In Colab\"/></a>"
      ]
    },
    {
      "cell_type": "markdown",
      "source": [
        "# Sets\n",
        "\n",
        "These are collections of unordered **unique items**. \n",
        "Sets are useful for membership tests"
      ],
      "metadata": {
        "id": "3xKll9FmNynW"
      }
    },
    {
      "cell_type": "code",
      "execution_count": null,
      "metadata": {
        "colab": {
          "base_uri": "https://localhost:8080/"
        },
        "id": "b6DYQPoINU04",
        "outputId": "a7f522e2-6aca-4ae6-ac6c-b37171a8d397"
      },
      "outputs": [
        {
          "output_type": "execute_result",
          "data": {
            "text/plain": [
              "True"
            ]
          },
          "metadata": {},
          "execution_count": 5
        }
      ],
      "source": [
        "#Useful for membership tests\n",
        "tech_stonks = set(['IBM','AAPL','MSFT'])\n",
        "'IBM' in tech_stonks\n"
      ]
    },
    {
      "cell_type": "code",
      "source": [
        "'FB' in tech_stonks"
      ],
      "metadata": {
        "colab": {
          "base_uri": "https://localhost:8080/"
        },
        "id": "8WzFUl4QO3u4",
        "outputId": "796aad77-09e6-4611-a6ea-f6f6e5af3c0f"
      },
      "execution_count": null,
      "outputs": [
        {
          "output_type": "execute_result",
          "data": {
            "text/plain": [
              "False"
            ]
          },
          "metadata": {},
          "execution_count": 3
        }
      ]
    },
    {
      "cell_type": "code",
      "source": [
        "#Sets are useful for duplicate elimination\n",
        "names = ['Harry','Ron','Hermione','Hagrid','Harry']\n",
        "unique = set(names)\n",
        "print(unique)"
      ],
      "metadata": {
        "colab": {
          "base_uri": "https://localhost:8080/"
        },
        "id": "Zxmet8E9O_C9",
        "outputId": "9b08c990-293f-4ff5-d7d2-d81081522a8b"
      },
      "execution_count": null,
      "outputs": [
        {
          "output_type": "stream",
          "name": "stdout",
          "text": [
            "{'Ron', 'Hagrid', 'Hermione', 'Harry'}\n"
          ]
        }
      ]
    },
    {
      "cell_type": "code",
      "source": [
        "#Other set operations\n",
        "unique.add('Snape')\n",
        "print(unique)\n",
        "unique.remove('Hagrid')\n",
        "print(unique)"
      ],
      "metadata": {
        "colab": {
          "base_uri": "https://localhost:8080/"
        },
        "id": "HdjgrF03PaI7",
        "outputId": "444e772c-62ea-4874-cfc4-e31e0b67f000"
      },
      "execution_count": null,
      "outputs": [
        {
          "output_type": "stream",
          "name": "stdout",
          "text": [
            "{'Snape', 'Ron', 'Hermione', 'Harry', 'Hagrid'}\n",
            "{'Snape', 'Ron', 'Hermione', 'Harry'}\n"
          ]
        }
      ]
    },
    {
      "cell_type": "code",
      "source": [
        "a1 = set(['Bart','Lisa','Maggie','Marge'])\n",
        "a2 = set(['Bart','Homer','Marge'])\n",
        "#Union\n",
        "print('Union:', a1 | a2)\n",
        "#Intersection\n",
        "print('Interscetion:',a1 & a2)\n",
        "#Set difference\n",
        "print('Set difference:',a1 - a2)"
      ],
      "metadata": {
        "colab": {
          "base_uri": "https://localhost:8080/"
        },
        "id": "zfDZH9MyPwL3",
        "outputId": "49f08501-8664-46e1-a2b4-708655711125"
      },
      "execution_count": null,
      "outputs": [
        {
          "output_type": "stream",
          "name": "stdout",
          "text": [
            "Union: {'Homer', 'Maggie', 'Bart', 'Lisa', 'Marge'}\n",
            "Interscetion: {'Bart', 'Marge'}\n",
            "Set difference: {'Lisa', 'Maggie'}\n"
          ]
        }
      ]
    },
    {
      "cell_type": "markdown",
      "source": [
        "#Dictionaries\n",
        "\n",
        "A collection of values indexed by \"keys\". \n",
        "\n",
        "Dictionaries are useful when: \n",
        "\n",
        "\n",
        "* There are many different values   \n",
        "* The values will be modified/manipulated\n",
        "\n",
        "Can be declared using the keyword dict or curly braces {}.\n",
        "\n",
        "\n"
      ],
      "metadata": {
        "id": "RnO3LWfkRIW3"
      }
    },
    {
      "cell_type": "code",
      "source": [
        "#two ways to decalre a dictionary.  \n",
        "characters = dict()\n",
        "characters = {}"
      ],
      "metadata": {
        "id": "8vos4xpJRLGD"
      },
      "execution_count": null,
      "outputs": []
    },
    {
      "cell_type": "code",
      "source": [
        "#Keys serve as filed names \n",
        "s = {'first':'Harry', 'last':'Potter'}\n",
        "s"
      ],
      "metadata": {
        "colab": {
          "base_uri": "https://localhost:8080/"
        },
        "id": "4H1W6QtpVzNJ",
        "outputId": "b8566097-d9a9-49e2-830b-5e99381c1b55"
      },
      "execution_count": null,
      "outputs": [
        {
          "output_type": "execute_result",
          "data": {
            "text/plain": [
              "{'first': 'Harry', 'last': 'Potter'}"
            ]
          },
          "metadata": {},
          "execution_count": 23
        }
      ]
    },
    {
      "cell_type": "code",
      "source": [
        "#To get a value, use the key name. \n",
        "print(s['first'])\n",
        "\n",
        "print(s['last'])"
      ],
      "metadata": {
        "colab": {
          "base_uri": "https://localhost:8080/"
        },
        "id": "TmNQ3bUNWKMq",
        "outputId": "321c6de7-d712-4d20-d158-1cc6080a3d1b"
      },
      "execution_count": null,
      "outputs": [
        {
          "output_type": "stream",
          "name": "stdout",
          "text": [
            "Harry\n",
            "Potter\n"
          ]
        }
      ]
    },
    {
      "cell_type": "code",
      "source": [
        "#Values cannot be referenced as an index value \n",
        "s[0]"
      ],
      "metadata": {
        "colab": {
          "base_uri": "https://localhost:8080/",
          "height": 184
        },
        "id": "o7z_MFjHWabm",
        "outputId": "5390bfcb-cd5d-4a83-c82e-0a4dd69aa0b9"
      },
      "execution_count": null,
      "outputs": [
        {
          "output_type": "error",
          "ename": "KeyError",
          "evalue": "ignored",
          "traceback": [
            "\u001b[0;31m---------------------------------------------------------------------------\u001b[0m",
            "\u001b[0;31mKeyError\u001b[0m                                  Traceback (most recent call last)",
            "\u001b[0;32m<ipython-input-27-353a72e9fa71>\u001b[0m in \u001b[0;36m<module>\u001b[0;34m()\u001b[0m\n\u001b[1;32m      1\u001b[0m \u001b[0;31m#Values cannot be referenced as an index value\u001b[0m\u001b[0;34m\u001b[0m\u001b[0;34m\u001b[0m\u001b[0;34m\u001b[0m\u001b[0m\n\u001b[0;32m----> 2\u001b[0;31m \u001b[0ms\u001b[0m\u001b[0;34m[\u001b[0m\u001b[0;36m0\u001b[0m\u001b[0;34m]\u001b[0m\u001b[0;34m\u001b[0m\u001b[0;34m\u001b[0m\u001b[0m\n\u001b[0m",
            "\u001b[0;31mKeyError\u001b[0m: 0"
          ]
        }
      ]
    },
    {
      "cell_type": "code",
      "source": [
        "#Adding/modifying values \n",
        "s['first'] = 'The chosen one'\n",
        "s['dob'] = 'July 31'\n",
        "s"
      ],
      "metadata": {
        "colab": {
          "base_uri": "https://localhost:8080/"
        },
        "id": "5soNa8jLWgjz",
        "outputId": "43b5ecf2-ebe3-4180-ab0d-6954db835e95"
      },
      "execution_count": null,
      "outputs": [
        {
          "output_type": "execute_result",
          "data": {
            "text/plain": [
              "{'dob': 'July 31', 'first': 'The chosen one', 'last': 'Potter'}"
            ]
          },
          "metadata": {},
          "execution_count": 34
        }
      ]
    },
    {
      "cell_type": "markdown",
      "source": [
        "## Deleting Values"
      ],
      "metadata": {
        "id": "Y6m5sojXYp-K"
      }
    },
    {
      "cell_type": "code",
      "source": [
        "del s['dob']\n",
        "print(s)"
      ],
      "metadata": {
        "colab": {
          "base_uri": "https://localhost:8080/"
        },
        "id": "pSR8GXDLYsH1",
        "outputId": "e2954349-c513-4b2f-e6d9-5ac1cb867159"
      },
      "execution_count": null,
      "outputs": [
        {
          "output_type": "stream",
          "name": "stdout",
          "text": [
            "{'last': 'Potter', 'first': 'The chosen one'}\n"
          ]
        }
      ]
    },
    {
      "cell_type": "code",
      "source": [
        "#deleting a key and returning it's value\n",
        "#It \"pops\" out of the dictionary.\n",
        "s.pop('first')\n",
        "print(s)"
      ],
      "metadata": {
        "colab": {
          "base_uri": "https://localhost:8080/"
        },
        "id": "1cXNdEzzY17W",
        "outputId": "60876474-1658-493a-fca4-4a39543080f4"
      },
      "execution_count": null,
      "outputs": [
        {
          "output_type": "stream",
          "name": "stdout",
          "text": [
            "{'last': 'Potter'}\n"
          ]
        }
      ]
    },
    {
      "cell_type": "markdown",
      "source": [
        "## Keys"
      ],
      "metadata": {
        "id": "Q1LMRFKLZW73"
      }
    },
    {
      "cell_type": "code",
      "source": [
        "#Keys can be strings, integers, tuples (composite keys)\n",
        "#Examples:\n",
        "holidays = { (1,1): 'New Years', (3,14): 'Pi Day', (7,11): 'Slurpee Day'}\n",
        "holidays[3, 14]"
      ],
      "metadata": {
        "colab": {
          "base_uri": "https://localhost:8080/",
          "height": 35
        },
        "id": "wX4P9e3GZUCK",
        "outputId": "089f75ad-bd5c-4287-9b85-d2eb7b1f3b75"
      },
      "execution_count": null,
      "outputs": [
        {
          "output_type": "execute_result",
          "data": {
            "application/vnd.google.colaboratory.intrinsic+json": {
              "type": "string"
            },
            "text/plain": [
              "'Pi Day'"
            ]
          },
          "metadata": {},
          "execution_count": 37
        }
      ]
    },
    {
      "cell_type": "markdown",
      "source": [
        "## Looping through a dictionary"
      ],
      "metadata": {
        "id": "zsZjMwa4Z3PY"
      }
    },
    {
      "cell_type": "code",
      "source": [
        "#The loop variable is the key\n",
        "employee = {'first_name':'Harry', 'last_name':'Potter', 'bod':\"July 31\", \"pet\":'Hedwig','house':'Gryffindor',\"school\":'Hogwarts','sport':\"Quidditch\"}\n",
        "for i in employee: \n",
        "  print(i)"
      ],
      "metadata": {
        "colab": {
          "base_uri": "https://localhost:8080/"
        },
        "id": "QMLBH4Z2Zxki",
        "outputId": "d2baab21-341a-41cc-bc09-63976a92d422"
      },
      "execution_count": null,
      "outputs": [
        {
          "output_type": "stream",
          "name": "stdout",
          "text": [
            "first_name\n",
            "last_name\n",
            "bod\n",
            "pet\n",
            "house\n",
            "school\n",
            "sport\n"
          ]
        }
      ]
    },
    {
      "cell_type": "code",
      "source": [
        "#.keys()\n",
        "employee.keys()\n"
      ],
      "metadata": {
        "colab": {
          "base_uri": "https://localhost:8080/"
        },
        "id": "eohh6zW3ak8T",
        "outputId": "fe2c4afd-57b4-44c9-e87c-d5cb74cdb9d6"
      },
      "execution_count": null,
      "outputs": [
        {
          "output_type": "execute_result",
          "data": {
            "text/plain": [
              "dict_keys(['first_name', 'last_name', 'bod', 'pet', 'house', 'school', 'sport'])"
            ]
          },
          "metadata": {},
          "execution_count": 41
        }
      ]
    },
    {
      "cell_type": "code",
      "source": [
        "#Check to see if a key is in a dictionary\n",
        "'best_friend' in employee.keys()\n"
      ],
      "metadata": {
        "colab": {
          "base_uri": "https://localhost:8080/"
        },
        "id": "dRCSiMb8asgy",
        "outputId": "49b9a9c5-a2c1-4266-fc7c-b6ee57aa614d"
      },
      "execution_count": null,
      "outputs": [
        {
          "output_type": "execute_result",
          "data": {
            "text/plain": [
              "False"
            ]
          },
          "metadata": {},
          "execution_count": 42
        }
      ]
    },
    {
      "cell_type": "code",
      "source": [
        "employee = {'first_name':'Harry', 'last_name':'Potter', 'bod':\"July 31\", \"pet\":'Hedwig','house':'Gryffindor',\"school\":'Hogwarts','sport':\"Quidditch\"}\n",
        "for i in employee: \n",
        "  print(employee[i])\n",
        "\n",
        "\n",
        "  \n"
      ],
      "metadata": {
        "colab": {
          "base_uri": "https://localhost:8080/",
          "height": 356
        },
        "id": "UzVBpJSGaeVU",
        "outputId": "02e47f4e-b470-4b94-8412-2dd609eaf0c0"
      },
      "execution_count": null,
      "outputs": [
        {
          "output_type": "stream",
          "name": "stdout",
          "text": [
            "Harry\n",
            "Potter\n",
            "July 31\n",
            "Hedwig\n",
            "Gryffindor\n",
            "Hogwarts\n",
            "Quidditch\n"
          ]
        },
        {
          "output_type": "error",
          "ename": "KeyError",
          "evalue": "ignored",
          "traceback": [
            "\u001b[0;31m---------------------------------------------------------------------------\u001b[0m",
            "\u001b[0;31mKeyError\u001b[0m                                  Traceback (most recent call last)",
            "\u001b[0;32m<ipython-input-98-f68e1d9ab178>\u001b[0m in \u001b[0;36m<module>\u001b[0;34m()\u001b[0m\n\u001b[1;32m      3\u001b[0m   \u001b[0mprint\u001b[0m\u001b[0;34m(\u001b[0m\u001b[0memployee\u001b[0m\u001b[0;34m[\u001b[0m\u001b[0mi\u001b[0m\u001b[0;34m]\u001b[0m\u001b[0;34m)\u001b[0m\u001b[0;34m\u001b[0m\u001b[0;34m\u001b[0m\u001b[0m\n\u001b[1;32m      4\u001b[0m \u001b[0;34m\u001b[0m\u001b[0m\n\u001b[0;32m----> 5\u001b[0;31m \u001b[0memployee\u001b[0m\u001b[0;34m[\u001b[0m\u001b[0;36m1\u001b[0m\u001b[0;34m]\u001b[0m\u001b[0;34m\u001b[0m\u001b[0;34m\u001b[0m\u001b[0m\n\u001b[0m\u001b[1;32m      6\u001b[0m \u001b[0;34m\u001b[0m\u001b[0m\n\u001b[1;32m      7\u001b[0m \u001b[0;34m\u001b[0m\u001b[0m\n",
            "\u001b[0;31mKeyError\u001b[0m: 1"
          ]
        }
      ]
    },
    {
      "cell_type": "code",
      "source": [
        "#This is the same thing.\n",
        "for i in employee.keys(): \n",
        "  print(employee[i])"
      ],
      "metadata": {
        "id": "TukSZZRDbA8D"
      },
      "execution_count": null,
      "outputs": []
    },
    {
      "cell_type": "code",
      "source": [
        "#Retrieve the values in a dictionary\n",
        "employee.values()"
      ],
      "metadata": {
        "colab": {
          "base_uri": "https://localhost:8080/"
        },
        "id": "8gLNdo8ZbEwC",
        "outputId": "5e59ef09-bf28-4b72-f222-7d4883f2e905"
      },
      "execution_count": null,
      "outputs": [
        {
          "output_type": "execute_result",
          "data": {
            "text/plain": [
              "dict_values(['Harry', 'Potter', 'July 31', 'Hedwig', 'Gryffindor', 'Hogwarts', 'Quidditch'])"
            ]
          },
          "metadata": {},
          "execution_count": 44
        }
      ]
    },
    {
      "cell_type": "code",
      "source": [
        "for i in employee.values():\n",
        "  print(i)"
      ],
      "metadata": {
        "colab": {
          "base_uri": "https://localhost:8080/"
        },
        "id": "6bgDqd7abLvm",
        "outputId": "716d055b-0481-47a2-e186-b5ff9d7eb4e2"
      },
      "execution_count": null,
      "outputs": [
        {
          "output_type": "stream",
          "name": "stdout",
          "text": [
            "Harry\n",
            "Potter\n",
            "July 31\n",
            "Hedwig\n",
            "Gryffindor\n",
            "Hogwarts\n",
            "Quidditch\n"
          ]
        }
      ]
    },
    {
      "cell_type": "markdown",
      "source": [
        "## Dictionary Length"
      ],
      "metadata": {
        "id": "ZQwDmeyeb5KG"
      }
    },
    {
      "cell_type": "code",
      "source": [
        "#len command\n",
        "#returns the number of key-value pairs\n",
        "len(employee)"
      ],
      "metadata": {
        "colab": {
          "base_uri": "https://localhost:8080/"
        },
        "id": "HYwWvBKEbScg",
        "outputId": "712d97d9-272e-44a8-8c53-8b1c66f6f029"
      },
      "execution_count": null,
      "outputs": [
        {
          "output_type": "execute_result",
          "data": {
            "text/plain": [
              "7"
            ]
          },
          "metadata": {},
          "execution_count": 49
        }
      ]
    },
    {
      "cell_type": "markdown",
      "source": [
        "Other dictionary commands.\n",
        "\n",
        "\n",
        "*  clear: d.clear(): Empties keys and values\n",
        "*  copy: new = d.copy: copies ditionary into new dictionary\n",
        "*  items: d.items(): Returns key-value pairs\n",
        "*  popitem: d.popitem(): removes and returns the last inserted key-value pair\n",
        "*  get: d.get(*key*) Returns the value for the key value (an alternative to d[key]\n",
        "\n"
      ],
      "metadata": {
        "id": "aPcc5nkyb_dm"
      }
    },
    {
      "cell_type": "code",
      "source": [
        "d = {'one':'greg','two':'matthews','three':'PhD'}\n",
        "print(d)\n",
        "d.clear()\n",
        "d"
      ],
      "metadata": {
        "colab": {
          "base_uri": "https://localhost:8080/"
        },
        "id": "lbnHcoWHc0LK",
        "outputId": "f8271a25-87dd-40b3-9677-39f68ccba519"
      },
      "execution_count": null,
      "outputs": [
        {
          "output_type": "stream",
          "name": "stdout",
          "text": [
            "{'one': 'greg', 'two': 'matthews', 'three': 'PhD'}\n"
          ]
        },
        {
          "output_type": "execute_result",
          "data": {
            "text/plain": [
              "{}"
            ]
          },
          "metadata": {},
          "execution_count": 53
        }
      ]
    },
    {
      "cell_type": "code",
      "source": [
        "d = {'one':'greg','two':'matthews','three':'PhD'}\n",
        "e = d.copy()\n",
        "print(e)"
      ],
      "metadata": {
        "colab": {
          "base_uri": "https://localhost:8080/"
        },
        "id": "sR2_iOBqdQeR",
        "outputId": "71d4c170-fdcf-4530-9871-564ccc2f804b"
      },
      "execution_count": null,
      "outputs": [
        {
          "output_type": "stream",
          "name": "stdout",
          "text": [
            "{'one': 'greg', 'two': 'matthews', 'three': 'PhD'}\n"
          ]
        }
      ]
    },
    {
      "cell_type": "code",
      "source": [
        "d = {'one':'greg','two':'matthews','three':'PhD'}\n",
        "d.items()"
      ],
      "metadata": {
        "colab": {
          "base_uri": "https://localhost:8080/"
        },
        "id": "8dLFYpdldVPi",
        "outputId": "76156b65-a2f9-4c87-9ffa-a1acfb9fe757"
      },
      "execution_count": null,
      "outputs": [
        {
          "output_type": "execute_result",
          "data": {
            "text/plain": [
              "dict_items([('one', 'greg'), ('two', 'matthews'), ('three', 'PhD')])"
            ]
          },
          "metadata": {},
          "execution_count": 55
        }
      ]
    },
    {
      "cell_type": "code",
      "source": [
        "d = {'one':'greg','two':'matthews','three':'PhD'}\n",
        "print(d.pop('one'))\n",
        "print(d)"
      ],
      "metadata": {
        "colab": {
          "base_uri": "https://localhost:8080/"
        },
        "id": "nDmgGCnMdX-V",
        "outputId": "40229066-d2bc-4417-ec01-a86abfc2ba2d"
      },
      "execution_count": null,
      "outputs": [
        {
          "output_type": "stream",
          "name": "stdout",
          "text": [
            "greg\n",
            "{'two': 'matthews', 'three': 'PhD'}\n"
          ]
        }
      ]
    },
    {
      "cell_type": "code",
      "source": [
        "d = {'first' : 'Hermione', 'last' : 'Granger', 'pet' : \"Crookshanks\"}\n",
        "for key, value in d.items():\n",
        "  print(\"Key =\", key, \", Value =\",value)"
      ],
      "metadata": {
        "colab": {
          "base_uri": "https://localhost:8080/"
        },
        "id": "Yis18FZcfHdo",
        "outputId": "971f3a9d-8ead-4a9b-acf8-ce83e0ec04f6"
      },
      "execution_count": null,
      "outputs": [
        {
          "output_type": "stream",
          "name": "stdout",
          "text": [
            "Key = first , Value = Hermione\n",
            "Key = last , Value = Granger\n",
            "Key = pet , Value = Crookshanks\n"
          ]
        }
      ]
    },
    {
      "cell_type": "markdown",
      "source": [
        "## Sorting a dictionary"
      ],
      "metadata": {
        "id": "POGIPfi1iDSo"
      }
    },
    {
      "cell_type": "code",
      "source": [
        "d = {\"There\":1,\n",
        "     'will': 1,\n",
        "     'be': 1,\n",
        "     'no': 1,\n",
        "     'foolish':1,\n",
        "     'wand-waving':1,\n",
        "     'or':1,\n",
        "     'silly':1,\n",
        "     \"incantations\":1,\n",
        "     'in':3}\n",
        "    \n",
        "#print(d)    \n",
        "\n",
        "\n",
        "#Why doesn't this work?\n",
        "#import operator\n",
        "#This is how you used to do it.\n",
        "#sorted_d = dict(sorted(d.items(), key = operator.itemgetter(1)))\n",
        "#sorted_d\n",
        "\n",
        "#This just sorts the keys and returns only keys\n",
        "print(sorted(d))\n",
        "\n",
        "# This sorts on the keys but returns the keys AND values\n",
        "sorted(d.items())\n",
        "\n"
      ],
      "metadata": {
        "colab": {
          "base_uri": "https://localhost:8080/"
        },
        "id": "qIt_ViBxfx0Y",
        "outputId": "f8974c3a-0471-45a9-8095-4ad79a1ba0f2"
      },
      "execution_count": 111,
      "outputs": [
        {
          "output_type": "stream",
          "name": "stdout",
          "text": [
            "['There', 'be', 'foolish', 'in', 'incantations', 'no', 'or', 'silly', 'wand-waving', 'will']\n",
            "[('will', 1), ('wand-waving', 1), ('silly', 1), ('or', 1), ('no', 1), ('incantations', 1), ('in', 3), ('foolish', 1), ('be', 1), ('There', 1)]\n",
            "[('will', 1), ('wand-waving', 1), ('silly', 1), ('or', 1), ('no', 1), ('incantations', 1), ('in', 3), ('foolish', 1), ('be', 1), ('There', 1)]\n"
          ]
        }
      ]
    },
    {
      "cell_type": "code",
      "source": [
        "#here is how to sort based on the keys \n",
        "#Notice that I'm using [0]\n",
        "#The keys are element 0.  The values are element 1.\n",
        "print(sorted(d.items(), key = lambda kv: kv[0], reverse = True))\n"
      ],
      "metadata": {
        "colab": {
          "base_uri": "https://localhost:8080/"
        },
        "id": "kOtL4YhviBwH",
        "outputId": "d241d855-ca75-4eaf-89db-cc168c9a093c"
      },
      "execution_count": 112,
      "outputs": [
        {
          "output_type": "stream",
          "name": "stdout",
          "text": [
            "[('will', 1), ('wand-waving', 1), ('silly', 1), ('or', 1), ('no', 1), ('incantations', 1), ('in', 3), ('foolish', 1), ('be', 1), ('There', 1)]\n"
          ]
        }
      ]
    },
    {
      "cell_type": "code",
      "source": [
        "#Here is how to sort based on the values\n",
        "#Notice that I'm using [1]\n",
        "#The keys are element 0.  The values are element 1.\n",
        "#By default in sorts smallest to largest.  \n",
        "#Reverse.....reverses that and sorts largest to smallest.  \n",
        "print(sorted(d.items(), key = lambda kv: kv[1], reverse = True))"
      ],
      "metadata": {
        "colab": {
          "base_uri": "https://localhost:8080/"
        },
        "id": "OR8wybRyk0l0",
        "outputId": "2c012f4f-50fa-4a35-d2d6-7c04cc976676"
      },
      "execution_count": 113,
      "outputs": [
        {
          "output_type": "stream",
          "name": "stdout",
          "text": [
            "[('in', 3), ('There', 1), ('will', 1), ('be', 1), ('no', 1), ('foolish', 1), ('wand-waving', 1), ('or', 1), ('silly', 1), ('incantations', 1)]\n"
          ]
        }
      ]
    },
    {
      "cell_type": "markdown",
      "source": [
        "## Dictionary of dictionaries"
      ],
      "metadata": {
        "id": "gPOVskywiq5P"
      }
    },
    {
      "cell_type": "code",
      "source": [
        "#Note for myself: Dictionaries in python are sort of like lists in R.  \n",
        "#You can have a list of lists and you can have dictionaries of dictionaries\n",
        "characters = {'Harry Potter':{'pet':\"Hedwig\",'sports':'Quidditch','house':\"Gryffindor\"},\n",
        "              'Hermione Granger':{'pet':\"Crookshanks\",'sports':'Studying','house':\"Gryffindor\"},\n",
        "              'Ron Weasley': {'pet':\"Scabbers\",'sports':'none','house':\"Gryffindor\"}}\n",
        "\n",
        "#Call by the keys\n",
        "print(characters['Harry Potter'])\n",
        "\n",
        "#Call by two levels\n",
        "print(characters['Ron Weasley']['pet'])\n"
      ],
      "metadata": {
        "colab": {
          "base_uri": "https://localhost:8080/"
        },
        "id": "iwgbr0wzk3Lb",
        "outputId": "d9d10c4d-49a0-41f3-9cfb-4b8c2c36c304"
      },
      "execution_count": 116,
      "outputs": [
        {
          "output_type": "stream",
          "name": "stdout",
          "text": [
            "{'pet': 'Hedwig', 'sports': 'Quidditch', 'house': 'Gryffindor'}\n",
            "Scabbers\n"
          ]
        }
      ]
    },
    {
      "cell_type": "markdown",
      "source": [
        "# Example\n",
        "\n"
      ],
      "metadata": {
        "id": "rLGyOnjYj5KK"
      }
    },
    {
      "cell_type": "markdown",
      "source": [
        ""
      ],
      "metadata": {
        "id": "HqDolIPtkDGJ"
      }
    },
    {
      "cell_type": "code",
      "source": [
        "import csv\n",
        "\n",
        "mydict = {}\n",
        "with open('Ex1_Dictionary_Exercise.txt', mode='r') as inp:\n",
        "    reader = csv.reader(inp)\n",
        "    dict_from_csv = {rows[0]:{'num_stocks':int(rows[1]),'price_per_stock':float(rows[2])}for rows in reader}\n",
        "\n",
        "print(dict_from_csv)\n",
        "\n",
        "\n"
      ],
      "metadata": {
        "colab": {
          "base_uri": "https://localhost:8080/"
        },
        "id": "uZyfK4zIkZ8v",
        "outputId": "640f583d-a3fd-4a22-94af-790962e54c28"
      },
      "execution_count": 119,
      "outputs": [
        {
          "output_type": "stream",
          "name": "stdout",
          "text": [
            "{'GOOGL': {'num_stocks': 100, 'price_per_stock': 1575.57}, 'FB': {'num_stocks': 14, 'price_per_stock': 260.81}, 'SNAP': {'num_stocks': 91, 'price_per_stock': 21.7}, 'TWTR': {'num_stocks': 300, 'price_per_stock': 38.09}, 'PINS': {'num_stocks': 5, 'price_per_stock': 34.19}, 'AAPL': {'num_stocks': 15, 'price_per_stock': 497.48}, 'AMZN': {'num_stocks': 100, 'price_per_stock': 3284.72}, 'NFLX': {'num_stocks': 75, 'price_per_stock': 492.31}}\n"
          ]
        }
      ]
    },
    {
      "cell_type": "code",
      "source": [
        "dict_from_csv['GOOGL']\n",
        "stock = 'GOOGL'\n",
        "val = 0\n",
        "for i in dict_from_csv.keys():\n",
        "  temp = dict_from_csv[i]['price_per_stock']\n",
        "  if temp > val:\n",
        "    val = temp\n",
        "    stock = i\n",
        "\n",
        "print(\"The most valuable stock is\",stock,\"It is worth\",dict_from_csv[stock]['price_per_stock'])\n",
        "\n"
      ],
      "metadata": {
        "id": "A5Zl0leGlOD9"
      },
      "execution_count": null,
      "outputs": []
    },
    {
      "cell_type": "markdown",
      "source": [
        "More practice with dictionaries!\n",
        "\n",
        "https://www.w3resource.com/python-exercises/dictionary/\n"
      ],
      "metadata": {
        "id": "6gVM4VXClF4n"
      }
    }
  ]
}