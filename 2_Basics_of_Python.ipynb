{
  "nbformat": 4,
  "nbformat_minor": 0,
  "metadata": {
    "colab": {
      "name": "2. Basics of Python",
      "provenance": [],
      "toc_visible": true,
      "authorship_tag": "ABX9TyPPl+ZdkZ6dMO2q4cJfRuhl",
      "include_colab_link": true
    },
    "kernelspec": {
      "name": "python3",
      "display_name": "Python 3"
    },
    "language_info": {
      "name": "python"
    }
  },
  "cells": [
    {
      "cell_type": "markdown",
      "metadata": {
        "id": "view-in-github",
        "colab_type": "text"
      },
      "source": [
        "<a href=\"https://colab.research.google.com/github/gjm112/LoyolaTeaching/blob/main/2_Basics_of_Python.ipynb\" target=\"_parent\"><img src=\"https://colab.research.google.com/assets/colab-badge.svg\" alt=\"Open In Colab\"/></a>"
      ]
    },
    {
      "cell_type": "markdown",
      "source": [
        "# Introduction\n",
        "\n",
        "Author: Dr. Gregory J. Matthews\n",
        "\n",
        "Twitter: @statsinthewild\n",
        "\n",
        "(Note: Notes adapted from Dr. Catherine Putonti, Dean of Everything.)"
      ],
      "metadata": {
        "id": "NnvRkwsqH9Ta"
      }
    },
    {
      "cell_type": "code",
      "execution_count": 1,
      "metadata": {
        "id": "XTEfTC8hlUL5"
      },
      "outputs": [],
      "source": [
        "# This is a comment\n",
        "height = 442 #in meters\n"
      ]
    },
    {
      "cell_type": "code",
      "source": [
        "height\n"
      ],
      "metadata": {
        "colab": {
          "base_uri": "https://localhost:8080/"
        },
        "id": "geJ8ZrrLl_dx",
        "outputId": "ba75e658-e270-402e-f4d0-56ee96bed312"
      },
      "execution_count": 2,
      "outputs": [
        {
          "output_type": "execute_result",
          "data": {
            "text/plain": [
              "442"
            ]
          },
          "metadata": {},
          "execution_count": 2
        }
      ]
    },
    {
      "cell_type": "code",
      "source": [
        "'''\n",
        "everything inside these quote is a comment\n",
        "greg = 42\n",
        "'''\n",
        "greg #not defined because it's commented out!\n"
      ],
      "metadata": {
        "colab": {
          "base_uri": "https://localhost:8080/",
          "height": 201
        },
        "id": "CVxALnIumD2x",
        "outputId": "4f9d06bb-7ad8-4f72-d6f9-45a6ae481144"
      },
      "execution_count": 4,
      "outputs": [
        {
          "output_type": "error",
          "ename": "NameError",
          "evalue": "ignored",
          "traceback": [
            "\u001b[0;31m---------------------------------------------------------------------------\u001b[0m",
            "\u001b[0;31mNameError\u001b[0m                                 Traceback (most recent call last)",
            "\u001b[0;32m<ipython-input-4-0cd1d8f7f665>\u001b[0m in \u001b[0;36m<module>\u001b[0;34m()\u001b[0m\n\u001b[1;32m      2\u001b[0m \u001b[0mgreg\u001b[0m \u001b[0;34m=\u001b[0m \u001b[0;36m42\u001b[0m\u001b[0;34m\u001b[0m\u001b[0;34m\u001b[0m\u001b[0m\n\u001b[1;32m      3\u001b[0m '''\n\u001b[0;32m----> 4\u001b[0;31m \u001b[0mgreg\u001b[0m\u001b[0;34m\u001b[0m\u001b[0;34m\u001b[0m\u001b[0m\n\u001b[0m",
            "\u001b[0;31mNameError\u001b[0m: name 'greg' is not defined"
          ]
        }
      ]
    },
    {
      "cell_type": "markdown",
      "source": [
        "# Variables"
      ],
      "metadata": {
        "id": "8wRt-xFpIBPt"
      }
    },
    {
      "cell_type": "code",
      "source": [
        "#Variable types\n",
        "#You do not declare types on pythion\n",
        "height = 442 #height is an int (integer)\n",
        "print(type(height))\n",
        "height = 442.0 #height is a float (floating point number)\n",
        "print(type(height))\n",
        "height = 'really tall' #height is a str (string)\n",
        "print(type(height))\n",
        "\n",
        "\n"
      ],
      "metadata": {
        "colab": {
          "base_uri": "https://localhost:8080/"
        },
        "id": "YNHyWWhbmxb3",
        "outputId": "f5123b9e-b517-4609-9024-57dc5187629a"
      },
      "execution_count": 7,
      "outputs": [
        {
          "output_type": "stream",
          "name": "stdout",
          "text": [
            "<class 'int'>\n",
            "<class 'float'>\n",
            "<class 'str'>\n"
          ]
        }
      ]
    },
    {
      "cell_type": "code",
      "source": [
        "a = 'Yes'\n",
        "b = \"Yup\"\n",
        "c = '''\n",
        "If you're happy and you know it \n",
        "clap your hands.\n",
        "Clap your hands.'''\n",
        "\n",
        "print(a)\n",
        "print(b)\n",
        "print(c)\n",
        "\n",
        "#Note\n",
        "#Space outside quotes doesn't matter\n",
        "#a =\"Yes\" is the same as a = \"Yes\"\n",
        "#Space INSIDE quotes DOES matter\n",
        "#These are not the same\n",
        "#a =\"Yes\" is NOT the same as a = \" Yes\"\n"
      ],
      "metadata": {
        "colab": {
          "base_uri": "https://localhost:8080/"
        },
        "id": "T1_assH0n0nz",
        "outputId": "ee87dd78-1d44-4d78-a4a7-574c43f1423d"
      },
      "execution_count": 8,
      "outputs": [
        {
          "output_type": "stream",
          "name": "stdout",
          "text": [
            "Yes\n",
            "Yup\n",
            "\n",
            "If you're happy and you know it \n",
            "clap your hands.\n",
            "Clap your hands.\n"
          ]
        }
      ]
    },
    {
      "cell_type": "code",
      "source": [
        "#Python is case sensitive!\n",
        "#These are all different variables\n",
        "name = 'Wakko'\n",
        "Name = 'Yakko'\n",
        "NAME = 'Dot'\n",
        "\n",
        "#Use print to display a single line of text.  \n",
        "print('Hello',name)\n",
        "print('Hello',Name)\n",
        "print('Hello',NAME)\n",
        "\n",
        "\n",
        "\n",
        "\n"
      ],
      "metadata": {
        "colab": {
          "base_uri": "https://localhost:8080/"
        },
        "id": "LlEN5i0Nocnm",
        "outputId": "392e34b9-6400-4604-d87d-18dac24c5187"
      },
      "execution_count": 11,
      "outputs": [
        {
          "output_type": "stream",
          "name": "stdout",
          "text": [
            "Hello Wakko\n",
            "Hello Yakko\n",
            "Hello Dot\n"
          ]
        }
      ]
    },
    {
      "cell_type": "code",
      "source": [
        "#Language statements are ALWAYS lower case\n",
        "print(\"Hello World\")\n",
        "PRINT(\"Hello World\")"
      ],
      "metadata": {
        "colab": {
          "base_uri": "https://localhost:8080/",
          "height": 218
        },
        "id": "IV-LOdZnoy7j",
        "outputId": "a673f8e4-72b9-4ed8-f8be-b326ecdd99b0"
      },
      "execution_count": 9,
      "outputs": [
        {
          "output_type": "stream",
          "name": "stdout",
          "text": [
            "Hello World\n"
          ]
        },
        {
          "output_type": "error",
          "ename": "NameError",
          "evalue": "ignored",
          "traceback": [
            "\u001b[0;31m---------------------------------------------------------------------------\u001b[0m",
            "\u001b[0;31mNameError\u001b[0m                                 Traceback (most recent call last)",
            "\u001b[0;32m<ipython-input-9-157893acdd44>\u001b[0m in \u001b[0;36m<module>\u001b[0;34m()\u001b[0m\n\u001b[1;32m      1\u001b[0m \u001b[0;31m#Language statements are ALWAYS lower case\u001b[0m\u001b[0;34m\u001b[0m\u001b[0;34m\u001b[0m\u001b[0;34m\u001b[0m\u001b[0m\n\u001b[1;32m      2\u001b[0m \u001b[0mprint\u001b[0m\u001b[0;34m(\u001b[0m\u001b[0;34m\"Hello World\"\u001b[0m\u001b[0;34m)\u001b[0m\u001b[0;34m\u001b[0m\u001b[0;34m\u001b[0m\u001b[0m\n\u001b[0;32m----> 3\u001b[0;31m \u001b[0mPRINT\u001b[0m\u001b[0;34m(\u001b[0m\u001b[0;34m\"Hello World\"\u001b[0m\u001b[0;34m)\u001b[0m\u001b[0;34m\u001b[0m\u001b[0;34m\u001b[0m\u001b[0m\n\u001b[0m",
            "\u001b[0;31mNameError\u001b[0m: name 'PRINT' is not defined"
          ]
        }
      ]
    },
    {
      "cell_type": "code",
      "source": [
        "print(name)\n",
        "print(name,Name,NAME)\n",
        "print('Your name is',NAME)\n"
      ],
      "metadata": {
        "colab": {
          "base_uri": "https://localhost:8080/"
        },
        "id": "pn9NFBmIr-1D",
        "outputId": "bfec87c3-f851-42dd-e621-0d5623820a66"
      },
      "execution_count": 12,
      "outputs": [
        {
          "output_type": "stream",
          "name": "stdout",
          "text": [
            "Wakko\n",
            "Wakko Yakko Dot\n",
            "Your name is Dot\n"
          ]
        }
      ]
    },
    {
      "cell_type": "markdown",
      "source": [
        "# Conditional Statements and Loops"
      ],
      "metadata": {
        "id": "Hl809dQaIE49"
      }
    },
    {
      "cell_type": "code",
      "source": [
        "#Loops!\n",
        "x = 1\n",
        "print(x)\n",
        "x += 1\n",
        "print(x)\n",
        "x += 1\n",
        "print(x)"
      ],
      "metadata": {
        "colab": {
          "base_uri": "https://localhost:8080/"
        },
        "id": "z0ETRvPGsK1w",
        "outputId": "a65e5e8b-f13c-4b84-8620-3ee08c46e522"
      },
      "execution_count": 13,
      "outputs": [
        {
          "output_type": "stream",
          "name": "stdout",
          "text": [
            "1\n",
            "2\n",
            "3\n"
          ]
        }
      ]
    },
    {
      "cell_type": "markdown",
      "source": [
        "## While Loops"
      ],
      "metadata": {
        "id": "vRV_N8QXIITM"
      }
    },
    {
      "cell_type": "code",
      "source": [
        "#Note the indentations!\n",
        "x = 1\n",
        "while x <= 100:\n",
        "  print(x)\n",
        "  x +=1"
      ],
      "metadata": {
        "id": "FX7sEtxj9dv1"
      },
      "execution_count": null,
      "outputs": []
    },
    {
      "cell_type": "code",
      "source": [
        "x = 1\n",
        "while x < 5:\n",
        "  print('Hello')\n",
        "  x *= 2"
      ],
      "metadata": {
        "colab": {
          "base_uri": "https://localhost:8080/"
        },
        "id": "dyomJc7D9sf8",
        "outputId": "6711c8c0-7f83-432b-d47f-e4ba168d3e9f"
      },
      "execution_count": 15,
      "outputs": [
        {
          "output_type": "stream",
          "name": "stdout",
          "text": [
            "Hello\n",
            "Hello\n",
            "Hello\n"
          ]
        }
      ]
    },
    {
      "cell_type": "code",
      "source": [
        "#Need to be consistent with indentation\n",
        "#What do we need to do to make this work?\n",
        "a = 1\n",
        "b = 1\n",
        "c = 10\n",
        "while a*b < c:\n",
        "  print(a, b, a*b)\n",
        "   print(c)\n",
        "  a = a*2"
      ],
      "metadata": {
        "colab": {
          "base_uri": "https://localhost:8080/"
        },
        "id": "3MBiqPKZ90pc",
        "outputId": "86e83bef-9b72-4608-b70b-5632b41faa8c"
      },
      "execution_count": 17,
      "outputs": [
        {
          "output_type": "stream",
          "name": "stdout",
          "text": [
            "1 1 1\n",
            "10\n",
            "2 1 2\n",
            "10\n",
            "4 1 4\n",
            "10\n",
            "8 1 8\n",
            "10\n"
          ]
        }
      ]
    },
    {
      "cell_type": "markdown",
      "source": [
        "## For loops\n"
      ],
      "metadata": {
        "id": "q8Nqo5KvIKdL"
      }
    },
    {
      "cell_type": "code",
      "source": [
        "#For loops\n",
        "for i in range(1,10):\n",
        "  print(i)\n"
      ],
      "metadata": {
        "colab": {
          "base_uri": "https://localhost:8080/"
        },
        "id": "Dzd9KHdQ_WLe",
        "outputId": "5aaa6bf7-faf5-44aa-b166-5841392660d0"
      },
      "execution_count": 22,
      "outputs": [
        {
          "output_type": "stream",
          "name": "stdout",
          "text": [
            "1\n",
            "2\n",
            "3\n",
            "4\n",
            "5\n",
            "6\n",
            "7\n",
            "8\n",
            "9\n"
          ]
        }
      ]
    },
    {
      "cell_type": "code",
      "source": [
        "#For loops\n",
        "for i in range(10):\n",
        "  print(i)\n"
      ],
      "metadata": {
        "colab": {
          "base_uri": "https://localhost:8080/"
        },
        "id": "jYX2_KbyHvVi",
        "outputId": "069cacbe-65ef-4283-a712-ae81e1b527af"
      },
      "execution_count": 50,
      "outputs": [
        {
          "output_type": "stream",
          "name": "stdout",
          "text": [
            "0\n",
            "1\n",
            "2\n",
            "3\n",
            "4\n",
            "5\n",
            "6\n",
            "7\n",
            "8\n",
            "9\n"
          ]
        }
      ]
    },
    {
      "cell_type": "markdown",
      "source": [
        ""
      ],
      "metadata": {
        "id": "lTPwgLe0H8Pc"
      }
    },
    {
      "cell_type": "markdown",
      "source": [
        "## Conditional Statements\n"
      ],
      "metadata": {
        "id": "e2bL7Q6CION1"
      }
    },
    {
      "cell_type": "code",
      "source": [
        "#Conditional Statements\n",
        "#If\n",
        "sky = \"sunny\"\n",
        "if sky == \"sunny\":\n",
        "  print('Leave your umbrella at home!')\n",
        "\n",
        "\n"
      ],
      "metadata": {
        "colab": {
          "base_uri": "https://localhost:8080/"
        },
        "id": "EhaJ5qA2_yv5",
        "outputId": "dbe5a377-c147-4454-e6c9-88b7757b2c4e"
      },
      "execution_count": 23,
      "outputs": [
        {
          "output_type": "stream",
          "name": "stdout",
          "text": [
            "Leave your umbrella at home!\n"
          ]
        }
      ]
    },
    {
      "cell_type": "code",
      "source": [
        "#What will be printed out?\n",
        "sky = \"cloudy\"\n",
        "if sky == \"sunny\":\n",
        "  print('Leave your umbrella at home!')"
      ],
      "metadata": {
        "id": "QV0O2BxbAHAj"
      },
      "execution_count": 24,
      "outputs": []
    },
    {
      "cell_type": "code",
      "source": [
        "#If Else\n",
        "#Every else must have an if. \n",
        "sky = 'cloudy'\n",
        "if sky == 'sunny':\n",
        "  print('Leave your umbrella at home!')\n",
        "else:\n",
        "  print('Better bring your umbrella')"
      ],
      "metadata": {
        "colab": {
          "base_uri": "https://localhost:8080/"
        },
        "id": "JYFY1N0sAK4G",
        "outputId": "f0b4b81b-0bb2-4d4d-a24e-43e3bd3beadd"
      },
      "execution_count": 25,
      "outputs": [
        {
          "output_type": "stream",
          "name": "stdout",
          "text": [
            "Better bring your umbrella\n"
          ]
        }
      ]
    },
    {
      "cell_type": "code",
      "source": [
        "#Nested\n",
        "#If and else \n",
        "sky = \"sunny\"\n",
        "if sky == \"sunny\":\n",
        "  print('Leave your umbrella at home!')\n",
        "else: \n",
        "  if sky == \"cloudy\":\n",
        "    print('Better bring your umbrella')\n",
        "  else:\n",
        "    if sky == \"snowing\":\n",
        "      print(\"Grab your parka\")\n",
        "    else: \n",
        "      print(\"Your guess is as good as mine!\")\n",
        "\n"
      ],
      "metadata": {
        "colab": {
          "base_uri": "https://localhost:8080/"
        },
        "id": "hkukLQ9pAbc-",
        "outputId": "a8eb4d19-8a52-40e5-82e8-471fe2dc661f"
      },
      "execution_count": 26,
      "outputs": [
        {
          "output_type": "stream",
          "name": "stdout",
          "text": [
            "Leave your umbrella at home!\n"
          ]
        }
      ]
    },
    {
      "cell_type": "code",
      "source": [
        "#What will be printed\n",
        "#elif makes this easier\n",
        "sky = \"sunny\"\n",
        "if sky == \"sunny\":\n",
        "  print('Leave your umbrella at home!')\n",
        "elif sky == \"cloudy\":\n",
        "  print('Better bring your umbrella')\n",
        "elif sky == \"snowing\":\n",
        "  print(\"Grab your parka\")\n",
        "else: \n",
        "  print(\"Your guess is as good as mine!\")"
      ],
      "metadata": {
        "colab": {
          "base_uri": "https://localhost:8080/"
        },
        "id": "e-HlUK2tAxy1",
        "outputId": "4746a1e2-79ed-412f-c9aa-ec63a048a59d"
      },
      "execution_count": 27,
      "outputs": [
        {
          "output_type": "stream",
          "name": "stdout",
          "text": [
            "Leave your umbrella at home!\n"
          ]
        }
      ]
    },
    {
      "cell_type": "markdown",
      "source": [
        "#Values\n"
      ],
      "metadata": {
        "id": "ju-lPVdeId-q"
      }
    },
    {
      "cell_type": "markdown",
      "source": [
        "## Numbers\n",
        "\n",
        "Python has 4 types of numbers\n",
        "\n",
        "\n",
        "*  Booleans\n",
        "*  Integers\n",
        "*  Floating point\n",
        "*  Complex (imaginary numbers)\n",
        "\n",
        "\n"
      ],
      "metadata": {
        "id": "YtrtLITQBD-X"
      }
    },
    {
      "cell_type": "code",
      "source": [
        "#Booleans\n",
        "a = True\n",
        "b = False\n",
        "\n",
        "#True evaluates as a 1 and False is a 0.  \n",
        "c = 4 + True\n",
        "print('c =',c)\n",
        "\n",
        "d = 0\n",
        "if d == False:\n",
        "  print('d is False')\n",
        "  "
      ],
      "metadata": {
        "colab": {
          "base_uri": "https://localhost:8080/"
        },
        "id": "cDDwj8f2BBZl",
        "outputId": "04ed6913-6b50-4cda-bfcb-9ffc2f26539f"
      },
      "execution_count": 29,
      "outputs": [
        {
          "output_type": "stream",
          "name": "stdout",
          "text": [
            "c = 5\n",
            "d is False\n"
          ]
        }
      ]
    },
    {
      "cell_type": "code",
      "source": [
        "#integers\n",
        "#Signed values of arbitrary size\n",
        "a = 37\n",
        "b = -29875486231854477\n",
        "c = 0x7fa8\n",
        "d = 0b1000001111\n",
        "\n",
        "#There are two internal representations\n",
        "#int: small values (less than 32-bits in size)\n",
        "#large: Large values (arbitrary size).  Sometimes you'll see L shown at the end of large valuers.  \n",
        "\n"
      ],
      "metadata": {
        "colab": {
          "base_uri": "https://localhost:8080/"
        },
        "id": "DPG287B0Bwfr",
        "outputId": "439415ab-bbda-4188-ad9e-1cb719045572"
      },
      "execution_count": 32,
      "outputs": [
        {
          "output_type": "stream",
          "name": "stdout",
          "text": [
            "527\n"
          ]
        }
      ]
    },
    {
      "cell_type": "markdown",
      "source": [
        "## Integer Operations"
      ],
      "metadata": {
        "id": "hSYum9CYIjTB"
      }
    },
    {
      "cell_type": "markdown",
      "source": [
        "Integer Operations\n",
        "\n",
        "\n",
        "\n",
        "*  \"+\" : sum\n",
        "*  \"-\" : difference\n",
        "*  \"*\" : product\n",
        "*  \"\\\" : quotient\n",
        "*  \"\\\\\" : floored quotient\n",
        "*  \"%\" : remainder (or modulus)\n",
        "*  abs(x) : absolute value\n",
        "*  int(x) : convert to integer\n",
        "*  float(x) : convert to float\n",
        "*  complex(re, im) : a complex number\n",
        "*  c.conjugate() : conjugate of complex number c\n",
        "*  divmod(x, y): The pair of x//y and x % y\n",
        "*  pow(x, y): x to the power y\n",
        "*  x ** y: x to the power y\n"
      ],
      "metadata": {
        "id": "JZBC0ghQCfl5"
      }
    },
    {
      "cell_type": "code",
      "source": [
        "print(\"5/4\")\n",
        "print(5/4)\n",
        "print(\"5//4\")\n",
        "print(5//4)"
      ],
      "metadata": {
        "colab": {
          "base_uri": "https://localhost:8080/"
        },
        "id": "mgfM8HGcCeVQ",
        "outputId": "6e0f125c-598a-46bc-ce69-ee881c90c08f"
      },
      "execution_count": 35,
      "outputs": [
        {
          "output_type": "stream",
          "name": "stdout",
          "text": [
            "5/4\n",
            "1.25\n",
            "5//4\n",
            "1\n"
          ]
        }
      ]
    },
    {
      "cell_type": "code",
      "source": [
        "print(\"5 + 4 = \", 5 + 4)\n",
        "print(\"2^3 = \", pow(2,3))\n",
        "print(\"2^3 = \", 2**3)\n",
        "print(\"remainder 8 / 3 =\", 8 % 3)\n"
      ],
      "metadata": {
        "colab": {
          "base_uri": "https://localhost:8080/"
        },
        "id": "A5Vgdt1TEDBg",
        "outputId": "727f9565-b47f-4025-9a44-afb4d3b7a439"
      },
      "execution_count": 45,
      "outputs": [
        {
          "output_type": "stream",
          "name": "stdout",
          "text": [
            "5 + 4 =  9\n",
            "2^3 =  8\n",
            "2^3 =  8\n",
            "remainder 8 / 3 =  2\n"
          ]
        }
      ]
    },
    {
      "cell_type": "markdown",
      "source": [
        "## Comparisons\n",
        "\n",
        "\n",
        "\n",
        "* > : Greater than\n",
        "* < : Less than\n",
        "* >= : Greater than or equal\n",
        "* <= : Less than or equal\n",
        "* !=: Not equal\n",
        "\n"
      ],
      "metadata": {
        "id": "qla3g-y8ElEa"
      }
    },
    {
      "cell_type": "code",
      "source": [
        "#Comparisons\n",
        "a = 1\n",
        "b = 2\n",
        "c = 3\n",
        "if b >= a and b <= c: \n",
        "  print('b is between a and c')"
      ],
      "metadata": {
        "colab": {
          "base_uri": "https://localhost:8080/"
        },
        "id": "vvKulCSvEi_e",
        "outputId": "c43ab32f-5077-41fc-aed2-708c63f371d5"
      },
      "execution_count": 46,
      "outputs": [
        {
          "output_type": "stream",
          "name": "stdout",
          "text": [
            "b is between a and c\n"
          ]
        }
      ]
    },
    {
      "cell_type": "code",
      "source": [
        "#This is the same statement as before written slightly differently. \n",
        "a = 1\n",
        "b = 2\n",
        "c = 3\n",
        "if not(b < a or b > c): \n",
        "  print('b is between a and c')"
      ],
      "metadata": {
        "id": "h2kZd9LmFChw"
      },
      "execution_count": null,
      "outputs": []
    },
    {
      "cell_type": "markdown",
      "source": [
        "## Floating Point\n"
      ],
      "metadata": {
        "id": "pv27QRhIIp4k"
      }
    },
    {
      "cell_type": "code",
      "source": [
        "#Floating point\n",
        "#Use decimal or exponential notation\n",
        "a = 37.5\n",
        "b = 4e5\n",
        "c = 1.34e-10\n",
        "print('a = ', a)\n",
        "print('b = ', b)\n",
        "print('c = ', c)"
      ],
      "metadata": {
        "colab": {
          "base_uri": "https://localhost:8080/"
        },
        "id": "_sjDzDrLFR_8",
        "outputId": "8868d1c2-5d8b-48cc-9e14-385d0ecf9544"
      },
      "execution_count": 47,
      "outputs": [
        {
          "output_type": "stream",
          "name": "stdout",
          "text": [
            "a =  37.5\n",
            "b =  400000.0\n",
            "c =  1.34e-10\n"
          ]
        }
      ]
    },
    {
      "cell_type": "code",
      "source": [
        "#floating points numbers are inexact decimal values \n",
        "a = 2.1 + 4.2\n",
        "print(a == 6.3)\n",
        "print(a)\n",
        "\n",
        "#Does anyone know what is happening here?"
      ],
      "metadata": {
        "colab": {
          "base_uri": "https://localhost:8080/"
        },
        "id": "tDiAAvbyFhew",
        "outputId": "4f6d5d20-7fbf-4f8e-e6b0-7026dfb903a2"
      },
      "execution_count": 49,
      "outputs": [
        {
          "output_type": "stream",
          "name": "stdout",
          "text": [
            "False\n",
            "6.300000000000001\n"
          ]
        }
      ]
    },
    {
      "cell_type": "markdown",
      "source": [
        "## Floating Point Operations"
      ],
      "metadata": {
        "id": "sJATQizpIuH1"
      }
    },
    {
      "cell_type": "code",
      "source": [
        "#floating point operations\n",
        "#all of the operations that were mentioned before (e.g. +, -, /, %, etc.)\n",
        "#We also have these available in the math module\n",
        "import math\n",
        "x = 4\n",
        "print(math.sqrt(x))\n",
        "print(math.sin(x))\n",
        "print(math.cos(x))\n",
        "print(math.tan(x))\n",
        "print(math.log(2)) #Natural log unless otherwise specified\n",
        "print(math.log(10000, 10)) #\n",
        "print(math.exp(2)) "
      ],
      "metadata": {
        "colab": {
          "base_uri": "https://localhost:8080/"
        },
        "id": "lDs1zQFjHpGL",
        "outputId": "50ad9a05-d2b2-4076-e64e-ea37cac0665a"
      },
      "execution_count": 63,
      "outputs": [
        {
          "output_type": "stream",
          "name": "stdout",
          "text": [
            "2.0\n",
            "-0.7568024953079282\n",
            "-0.6536436208636119\n",
            "1.1578212823495775\n",
            "0.6931471805599453\n",
            "4.0\n",
            "7.38905609893065\n"
          ]
        }
      ]
    },
    {
      "cell_type": "code",
      "source": [
        "#Converting numbers\n",
        "x = 5.0\n",
        "print(x)\n",
        "print(type(x))\n",
        "\n",
        "a = int(x)\n",
        "print(a)\n",
        "print(type(a))\n",
        "\n",
        "b = float(a)\n",
        "print(b)\n",
        "print(type(b))\n",
        "\n",
        "pi = '3.141519'\n",
        "a = float(pi)\n",
        "print(pi)\n",
        "print(type(pi))"
      ],
      "metadata": {
        "colab": {
          "base_uri": "https://localhost:8080/"
        },
        "id": "9RvOoHqwJw-R",
        "outputId": "faee1d20-f801-4611-a42e-32a799dde816"
      },
      "execution_count": 69,
      "outputs": [
        {
          "output_type": "stream",
          "name": "stdout",
          "text": [
            "5.0\n",
            "<class 'float'>\n",
            "5\n",
            "<class 'int'>\n",
            "5.0\n",
            "<class 'float'>\n",
            "3.141519\n",
            "<class 'str'>\n"
          ]
        }
      ]
    },
    {
      "cell_type": "markdown",
      "source": [
        "# Functions"
      ],
      "metadata": {
        "id": "7-J_fDALKKpp"
      }
    },
    {
      "cell_type": "code",
      "source": [
        "def get_max_value(a,b):\n",
        "  if a>b:\n",
        "    return a\n",
        "  else: \n",
        "    return b\n",
        "\n",
        "#These both work\n",
        "print(\"Maximum value is\",get_max_value(4,5))\n",
        "print(\"Maximum value is \"+str(get_max_value(4,5)))"
      ],
      "metadata": {
        "colab": {
          "base_uri": "https://localhost:8080/"
        },
        "id": "IsObXOABKJT1",
        "outputId": "88f07e51-55b6-4ec8-8630-73e67fd3e1d6"
      },
      "execution_count": 74,
      "outputs": [
        {
          "output_type": "stream",
          "name": "stdout",
          "text": [
            "Maximum value is 5\n",
            "Maximum value is 5\n"
          ]
        }
      ]
    },
    {
      "cell_type": "markdown",
      "source": [
        "# Exercise 1\n",
        "\n",
        "The height of a lego brick is 9.6 mm. We want to build a tower at a height closest to x m.(Remember 1000 mm in a m.)\n",
        "\n",
        "Imagine your starter code is:\n",
        "x=3    # I want to build a tower that is ~ 3 m high\n",
        "\n",
        "1.   Write a statement to calculate how many bricks are needed.\n",
        "2.   Write code using a while loop to calculate the number of bricks needed.\n",
        "\n"
      ],
      "metadata": {
        "id": "Czhfot1RLhHN"
      }
    }
  ]
}